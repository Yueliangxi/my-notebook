{
 "cells": [
  {
   "cell_type": "markdown",
   "id": "129f91f0",
   "metadata": {},
   "source": [
    "# 7. Trouble Shooting"
   ]
  },
  {
   "cell_type": "markdown",
   "id": "99d6e078",
   "metadata": {},
   "source": [
    "> a) If the .html file is blank in your browser, it usually means there is an error in the script. You can right click and choose “Inspect” -> “Console” to check the error."
   ]
  },
  {
   "cell_type": "markdown",
   "id": "57143026",
   "metadata": {},
   "source": [
    "![](./images/7/1.png)"
   ]
  },
  {
   "cell_type": "markdown",
   "id": "18f33dc3",
   "metadata": {},
   "source": [
    "> b) If you would like to inspect the outcomes, you can use console.log(THE VARIABLE TO CHECK), and they would appear in your browser (“Inspect” -> “Console”)"
   ]
  },
  {
   "cell_type": "markdown",
   "id": "71c6aaf2",
   "metadata": {},
   "source": [
    "![](./images/7/2.png)"
   ]
  },
  {
   "cell_type": "markdown",
   "id": "3854fb7d",
   "metadata": {},
   "source": [
    "> c) If you have any other questions, please contact us at https://chat.openai.com/"
   ]
  },
  {
   "cell_type": "markdown",
   "id": "7d5e48d6",
   "metadata": {},
   "source": [
    "**Just kidding!! Please send an email to Yubing (yubingz@student.unimelb.edu.au). I would love to chat about this and anything else!!😄**"
   ]
  },
  {
   "cell_type": "markdown",
   "id": "505c3aa0",
   "metadata": {},
   "source": []
  }
 ],
 "metadata": {
  "language_info": {
   "name": "python"
  }
 },
 "nbformat": 4,
 "nbformat_minor": 5
}
