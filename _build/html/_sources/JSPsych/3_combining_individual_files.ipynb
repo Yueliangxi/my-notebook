{
 "cells": [
  {
   "cell_type": "markdown",
   "id": "67eff944",
   "metadata": {},
   "source": [
    "# 3. Combining Individual Files into html"
   ]
  },
  {
   "cell_type": "markdown",
   "id": "f0b4cad1",
   "metadata": {},
   "source": [
    "List all the files you will be using:"
   ]
  },
  {
   "cell_type": "markdown",
   "id": "7a45cc99",
   "metadata": {},
   "source": [
    "![](./images/3/1.png)"
   ]
  },
  {
   "cell_type": "markdown",
   "id": "493f4552",
   "metadata": {},
   "source": [
    "If there’s no need to show different participants different things in your study, you can add each individual questionnaire block here (and you are almost done!):"
   ]
  },
  {
   "cell_type": "markdown",
   "id": "30093579",
   "metadata": {},
   "source": [
    "![](./images/3/2.png)"
   ]
  },
  {
   "cell_type": "markdown",
   "id": "38c75fb7",
   "metadata": {},
   "source": [
    "```{Note}\n",
    "For our study, we would like to show participants above and under 18 different versions of questionnaires, so it’s a bit more complicated (more in “6. Some Other Things”).\n",
    "```"
   ]
  },
  {
   "cell_type": "markdown",
   "id": "3d3e2354",
   "metadata": {},
   "source": []
  }
 ],
 "metadata": {
  "language_info": {
   "name": "python"
  }
 },
 "nbformat": 4,
 "nbformat_minor": 5
}
