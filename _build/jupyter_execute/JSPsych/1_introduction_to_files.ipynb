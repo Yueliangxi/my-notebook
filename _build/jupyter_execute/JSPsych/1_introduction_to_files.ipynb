{
 "cells": [
  {
   "cell_type": "markdown",
   "id": "d1f3fab1",
   "metadata": {},
   "source": [
    "# 1. A Brief Introduction to the Files"
   ]
  },
  {
   "cell_type": "markdown",
   "id": "0683d7e0",
   "metadata": {},
   "source": [
    "![](./images/1/1.png)"
   ]
  },
  {
   "cell_type": "markdown",
   "id": "2fa51cc8",
   "metadata": {},
   "source": [
    "### a) html file"
   ]
  },
  {
   "cell_type": "markdown",
   "id": "93ffd034",
   "metadata": {},
   "source": [
    "> The .html file is the summary file where everything is put together. You can open it with your browser for preview or with any coding software for modification (Visual Studio Code: https://code.visualstudio.com/)."
   ]
  },
  {
   "cell_type": "markdown",
   "id": "4365f3ae",
   "metadata": {},
   "source": [
    "![](./images/1/2.png)"
   ]
  },
  {
   "cell_type": "markdown",
   "id": "b887dbb2",
   "metadata": {},
   "source": [
    "### b) \"other_blocks\" folder"
   ]
  },
  {
   "cell_type": "markdown",
   "id": "96bde642",
   "metadata": {},
   "source": [
    "> All the individual questionnaires are coded in separate files in the “other_blockes” folder."
   ]
  },
  {
   "cell_type": "markdown",
   "id": "47b03912",
   "metadata": {},
   "source": [
    "### c) \"jspsych\" folder"
   ]
  },
  {
   "cell_type": "markdown",
   "id": "8af17bec",
   "metadata": {},
   "source": [
    "> You generally don’t need to modify the plugins or anything in the “jspsych” folder, just leave it as it is."
   ]
  },
  {
   "cell_type": "markdown",
   "id": "4dfeb15a",
   "metadata": {},
   "source": [
    "![](./images/1/3.png)"
   ]
  },
  {
   "cell_type": "markdown",
   "id": "65cf69f5",
   "metadata": {},
   "source": []
  }
 ],
 "metadata": {
  "language_info": {
   "codemirror_mode": {
    "name": "ipython",
    "version": 3
   },
   "file_extension": ".py",
   "mimetype": "text/x-python",
   "name": "python",
   "nbconvert_exporter": "python",
   "pygments_lexer": "ipython3",
   "version": "3.12.5"
  }
 },
 "nbformat": 4,
 "nbformat_minor": 5
}