{
 "cells": [
  {
   "cell_type": "markdown",
   "id": "635e3b43",
   "metadata": {},
   "source": [
    "# 2. Modifying an Individual File"
   ]
  },
  {
   "cell_type": "markdown",
   "id": "e3461067",
   "metadata": {},
   "source": []
  },
  {
   "cell_type": "markdown",
   "id": "940436e8",
   "metadata": {},
   "source": [
    "## Example: A Likert Scale Questionnaire"
   ]
  },
  {
   "cell_type": "markdown",
   "id": "bf4ece2b",
   "metadata": {},
   "source": [
    "> Using **“2a. DASSY_likert_block.js”** as an example, the first few lines create an instruction on a separate web page:"
   ]
  },
  {
   "cell_type": "markdown",
   "id": "2c12c826",
   "metadata": {},
   "source": [
    "![](./images/2/1.png)"
   ]
  },
  {
   "cell_type": "markdown",
   "id": "3bf1c5ce",
   "metadata": {},
   "source": [
    "What’s showing on the web page:"
   ]
  },
  {
   "cell_type": "markdown",
   "id": "67a06a0c",
   "metadata": {},
   "source": [
    "![](./images/2/2.png)"
   ]
  },
  {
   "cell_type": "markdown",
   "id": "1081aecc",
   "metadata": {},
   "source": [
    "If you would like to modify it to your own, just copy and paste your sentences here:"
   ]
  },
  {
   "cell_type": "markdown",
   "id": "a2a9a6a9",
   "metadata": {},
   "source": [
    "![](./images/2/3.png)"
   ]
  },
  {
   "cell_type": "markdown",
   "id": "075214b6",
   "metadata": {},
   "source": [
    "Adjust font, size, text position, etc.:"
   ]
  },
  {
   "cell_type": "markdown",
   "id": "977b3b9d",
   "metadata": {},
   "source": [
    "![](./images/2/4.png)"
   ]
  },
  {
   "cell_type": "markdown",
   "id": "2d3f82db",
   "metadata": {},
   "source": [
    "Proceed to the next page:"
   ]
  },
  {
   "cell_type": "markdown",
   "id": "7016264b",
   "metadata": {},
   "source": [
    "![](./images/2/5.png)"
   ]
  },
  {
   "cell_type": "markdown",
   "id": "a99691c5",
   "metadata": {},
   "source": [
    "There are many other options for proceeding, e.g.:"
   ]
  },
  {
   "cell_type": "markdown",
   "id": "694f692c",
   "metadata": {},
   "source": [
    "![](./images/2/6.png)"
   ]
  },
  {
   "cell_type": "markdown",
   "id": "bd29e3b3",
   "metadata": {},
   "source": [
    "Following are the choices and questions:"
   ]
  },
  {
   "cell_type": "markdown",
   "id": "5446eeb5",
   "metadata": {},
   "source": [
    "![](./images/2/7.png)"
   ]
  },
  {
   "cell_type": "markdown",
   "id": "259d1816",
   "metadata": {},
   "source": [
    "What’s showing on the web page:"
   ]
  },
  {
   "cell_type": "markdown",
   "id": "70a9f6fc",
   "metadata": {},
   "source": [
    "![](./images/2/8.png)"
   ]
  },
  {
   "cell_type": "markdown",
   "id": "a5be21b5",
   "metadata": {},
   "source": [
    "Since we have the same options for all of our questions in this questionnaire, we only need to code that once (the block is called “scale” – you can change the name if you want, but make sure you are using the same name throughout the file) and use them for each individual question:"
   ]
  },
  {
   "cell_type": "markdown",
   "id": "d60db3e3",
   "metadata": {},
   "source": [
    "![](./images/2/9.png)"
   ]
  },
  {
   "cell_type": "markdown",
   "id": "35640300",
   "metadata": {},
   "source": [
    "If the options are different for each of your questions, you can code them separately in the “var questions” block (example: **“16b. SSPDG_likert_block.js”**):"
   ]
  },
  {
   "cell_type": "markdown",
   "id": "14d163b5",
   "metadata": {},
   "source": [
    "![](./images/2/10.png)"
   ]
  },
  {
   "cell_type": "markdown",
   "id": "a4d2ae6b",
   "metadata": {},
   "source": [
    "The rest are some settings:"
   ]
  },
  {
   "cell_type": "markdown",
   "id": "5f89fe0b",
   "metadata": {},
   "source": [
    "![](./images/2/11.png)"
   ]
  },
  {
   "cell_type": "markdown",
   "id": "5ce13923",
   "metadata": {},
   "source": [
    "## Other Types of Surveys/Functions"
   ]
  },
  {
   "cell_type": "markdown",
   "id": "5c8ff610",
   "metadata": {},
   "source": [
    "```{Note}\n",
    "JS Psych doesn’t allow you to have different types of functions on the same page (or it’s just me haven’t figure this out 😭 ). So for example, a Likert scale survey and a text response survey have to be coded in separate blocks & presented on different pages.\n",
    "```"
   ]
  },
  {
   "cell_type": "markdown",
   "id": "7d5f3c0a",
   "metadata": {},
   "source": [
    "Here are some examples other than the Likert scale:"
   ]
  },
  {
   "cell_type": "markdown",
   "id": "e710d566",
   "metadata": {},
   "source": [
    "> a) Surveys with drop-down box (example: **“1. demographics_block.js”**)"
   ]
  },
  {
   "cell_type": "markdown",
   "id": "5d3aeaa3",
   "metadata": {},
   "source": [
    "![](./images/2/12.png)"
   ]
  },
  {
   "cell_type": "markdown",
   "id": "c744c025",
   "metadata": {},
   "source": [
    "What’s showing on the web page:"
   ]
  },
  {
   "cell_type": "markdown",
   "id": "e43d68f4",
   "metadata": {},
   "source": [
    "![](./images/2/13.png)"
   ]
  },
  {
   "cell_type": "markdown",
   "id": "12c8e66b",
   "metadata": {},
   "source": [
    "> b) Surveys with text response (example: **“1. demographics_block.js”**)"
   ]
  },
  {
   "cell_type": "markdown",
   "id": "eeeed776",
   "metadata": {},
   "source": [
    "![](./images/2/14.png)"
   ]
  },
  {
   "cell_type": "markdown",
   "id": "a62cca0f",
   "metadata": {},
   "source": [
    "**What’s showing on the web page:**"
   ]
  },
  {
   "cell_type": "markdown",
   "id": "bfe1c3c6",
   "metadata": {},
   "source": [
    "![](./images/2/15.png)"
   ]
  },
  {
   "cell_type": "markdown",
   "id": "d6f04ef5",
   "metadata": {},
   "source": [
    "> c) Presenting an image (example: “0. consent_block.js”)"
   ]
  },
  {
   "cell_type": "markdown",
   "id": "19d212b3",
   "metadata": {},
   "source": [
    "![](./images/2/16.png)"
   ]
  },
  {
   "cell_type": "markdown",
   "id": "d2dd5390",
   "metadata": {},
   "source": [
    "> d) Other JS Psych functions include slider, multi-select, or audio/video, see more details on their website: https://www.jspsych.org/7.3/"
   ]
  },
  {
   "cell_type": "markdown",
   "id": "c44c5ed9",
   "metadata": {},
   "source": []
  }
 ],
 "metadata": {
  "language_info": {
   "codemirror_mode": {
    "name": "ipython",
    "version": 3
   },
   "file_extension": ".py",
   "mimetype": "text/x-python",
   "name": "python",
   "nbconvert_exporter": "python",
   "pygments_lexer": "ipython3",
   "version": "3.12.5"
  }
 },
 "nbformat": 4,
 "nbformat_minor": 5
}