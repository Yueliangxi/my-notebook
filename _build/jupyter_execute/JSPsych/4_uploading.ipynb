{
 "cells": [
  {
   "cell_type": "markdown",
   "id": "a0a1df60",
   "metadata": {},
   "source": [
    "# 4. Uploading for Data Collection"
   ]
  },
  {
   "cell_type": "markdown",
   "id": "5d59ea4b",
   "metadata": {},
   "source": [
    "We used a platform called Pavlovia (https://pavlovia.org/) for data collection. Just add the following codes before and after your questionnaire blocks:"
   ]
  },
  {
   "cell_type": "markdown",
   "id": "0dc425ee",
   "metadata": {},
   "source": [
    "![](./images/4/1.png)"
   ]
  },
  {
   "cell_type": "markdown",
   "id": "adf14967",
   "metadata": {},
   "source": [
    "```{important}\n",
    "You can’t open the .html file on your browser anymore after adding these lines, so it’s better to get everything ready before doing so. There is another file (“Instruction_Pavlovia.docx”) on Github that explains how to use the platform.\n",
    "```"
   ]
  },
  {
   "cell_type": "markdown",
   "id": "37a1b846",
   "metadata": {},
   "source": [
    "There are likely to be other platforms or methods for data collection, but we haven’t explored them yet…"
   ]
  },
  {
   "cell_type": "markdown",
   "id": "7d2f15f1",
   "metadata": {},
   "source": []
  }
 ],
 "metadata": {
  "language_info": {
   "codemirror_mode": {
    "name": "ipython",
    "version": 3
   },
   "file_extension": ".py",
   "mimetype": "text/x-python",
   "name": "python",
   "nbconvert_exporter": "python",
   "pygments_lexer": "ipython3",
   "version": "3.12.5"
  }
 },
 "nbformat": 4,
 "nbformat_minor": 5
}