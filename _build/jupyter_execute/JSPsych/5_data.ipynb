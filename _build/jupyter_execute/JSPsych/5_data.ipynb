{
 "cells": [
  {
   "cell_type": "markdown",
   "id": "028c78c2",
   "metadata": {},
   "source": [
    "# 5. How the Data would Look Like"
   ]
  },
  {
   "cell_type": "markdown",
   "id": "96db523d",
   "metadata": {},
   "source": [
    "**You will get an excel file for each of your participants:**"
   ]
  },
  {
   "cell_type": "markdown",
   "id": "2c37e1dc",
   "metadata": {},
   "source": [
    "![](./images/5/1.png)"
   ]
  },
  {
   "cell_type": "markdown",
   "id": "6042d292",
   "metadata": {},
   "source": [
    "```{Note}\n",
    "All the answers collected on one web page will be presented in a single cell, so make sure the questions are meaningfully labeled.\n",
    "```"
   ]
  },
  {
   "cell_type": "markdown",
   "id": "3b3f84cf",
   "metadata": {},
   "source": [
    "> A negative example where we forgot to add labels:"
   ]
  },
  {
   "cell_type": "markdown",
   "id": "bde59b03",
   "metadata": {},
   "source": [
    "![](./images/5/2.png)"
   ]
  },
  {
   "cell_type": "markdown",
   "id": "97728c7d",
   "metadata": {},
   "source": [
    "> A better example:"
   ]
  },
  {
   "cell_type": "markdown",
   "id": "78983a0e",
   "metadata": {},
   "source": [
    "![](./images/5/3.png)"
   ]
  },
  {
   "cell_type": "markdown",
   "id": "665c10f2",
   "metadata": {},
   "source": []
  }
 ],
 "metadata": {
  "language_info": {
   "codemirror_mode": {
    "name": "ipython",
    "version": 3
   },
   "file_extension": ".py",
   "mimetype": "text/x-python",
   "name": "python",
   "nbconvert_exporter": "python",
   "pygments_lexer": "ipython3",
   "version": "3.12.5"
  }
 },
 "nbformat": 4,
 "nbformat_minor": 5
}