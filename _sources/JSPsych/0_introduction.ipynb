{
 "cells": [
  {
   "cell_type": "markdown",
   "id": "d17b4c11",
   "metadata": {},
   "source": [
    "# Introduction to JS Psych Questionnaires"
   ]
  },
  {
   "cell_type": "markdown",
   "id": "aab40154",
   "metadata": {},
   "source": [
    "*For the AND Lab*"
   ]
  },
  {
   "cell_type": "markdown",
   "id": "451e675d",
   "metadata": {},
   "source": [
    "We have utilized the safety learning questionnaires as an example in these instructions (“Projects”  ->  “Safety Learning”), which includes a consent form, a demographic survey, and 19 psychological scales. Since each of the individual scales is stored as a separate document in JS Psych, you are able to pick from the questionnaires we’ve already coded and use them directly when building your own project. All the coded questionnaires are listed under “List of Questionnaires”. The coded JS Psych blocks and their original PDF files are available in “Coded Questionnaire Blocks” and “Original Questionnaire Documents” respectively. You can also code your own questionnaires if they have not been used in the lab before (see “2. Modifying an Individual File” for instructions). Subsequent sections of the instruction will also provide information about how to compile all the questionnaire files and make other adjustments."
   ]
  },
  {
   "cell_type": "markdown",
   "id": "1f36dbef",
   "metadata": {},
   "source": [
    "```{important}\n",
    "Please let us know if any part of this instruction or the example is unclear; we will try to investigate the issue. Feel free to modify or add content to this file to improve clarity for future lab members. Also, it would be great if you could add your coded questionnaires and the entire project to our Github repository after completing them. Happy coding!&#x1F600;\n",
    "```"
   ]
  },
  {
   "cell_type": "markdown",
   "id": "eba7149d",
   "metadata": {},
   "source": []
  }
 ],
 "metadata": {
  "language_info": {
   "name": "python"
  }
 },
 "nbformat": 4,
 "nbformat_minor": 5
}
