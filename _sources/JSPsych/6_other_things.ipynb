{
 "cells": [
  {
   "cell_type": "markdown",
   "id": "789fc6a3",
   "metadata": {},
   "source": [
    "# 6. Some Other Things"
   ]
  },
  {
   "cell_type": "markdown",
   "id": "0c6c6f85",
   "metadata": {},
   "source": [
    "## Making Answering Questions Required & in the Right Formet"
   ]
  },
  {
   "cell_type": "markdown",
   "id": "0069becb",
   "metadata": {},
   "source": [
    "> a) For Likert scale and text response surveys, you can add “required: true” directly after the individual question (example: **“1. demographics_block.js”**) "
   ]
  },
  {
   "cell_type": "markdown",
   "id": "32a8f65d",
   "metadata": {},
   "source": [
    "![](./images/6/1.png)"
   ]
  },
  {
   "cell_type": "markdown",
   "id": "f346577f",
   "metadata": {},
   "source": [
    "OR you can add the following codes at the end to ensure all the questions within the block are answered (example: **“2a. DASSY_likert_block.js”**):"
   ]
  },
  {
   "cell_type": "markdown",
   "id": "def4b637",
   "metadata": {},
   "source": [
    "![](./images/6/2.png)"
   ]
  },
  {
   "cell_type": "markdown",
   "id": "25259962",
   "metadata": {},
   "source": [
    "> b) For drop-down box, it needs to be modified in the “jspsych-survey-select.js” file in “jspsych”  “plugins”:"
   ]
  },
  {
   "cell_type": "markdown",
   "id": "72818d64",
   "metadata": {},
   "source": [
    "![](./images/6/3.png)"
   ]
  },
  {
   "cell_type": "markdown",
   "id": "2017fda1",
   "metadata": {},
   "source": [
    "> c) You can also ask the participants to fill in digits only (or digits with a certain length) in surveys with text response:"
   ]
  },
  {
   "cell_type": "markdown",
   "id": "30330816",
   "metadata": {},
   "source": [
    "![](./images/6/4.png)"
   ]
  },
  {
   "cell_type": "markdown",
   "id": "337a7920",
   "metadata": {},
   "source": [
    "## Conditional Questions"
   ]
  },
  {
   "cell_type": "markdown",
   "id": "9f0c7e62",
   "metadata": {},
   "source": [
    "Here are the codes if you would like to ask the participants extra questions based on their answers (example: **“16b. SSPDG_likert_block.js”**)."
   ]
  },
  {
   "cell_type": "markdown",
   "id": "d239ea0b",
   "metadata": {},
   "source": [
    "The initial question:"
   ]
  },
  {
   "cell_type": "markdown",
   "id": "0f7441ed",
   "metadata": {},
   "source": [
    "![](./images/6/5.png)"
   ]
  },
  {
   "cell_type": "markdown",
   "id": "0eccce1e",
   "metadata": {},
   "source": [
    "Create a new question block (called **“SSPDG6b”** here) for the extra questions:"
   ]
  },
  {
   "cell_type": "markdown",
   "id": "caeff26c",
   "metadata": {},
   "source": [
    "![](./images/6/6.png)"
   ]
  },
  {
   "cell_type": "markdown",
   "id": "68fa9868",
   "metadata": {},
   "source": [
    "Retrieve their answers:"
   ]
  },
  {
   "cell_type": "markdown",
   "id": "b4394ee3",
   "metadata": {},
   "source": [
    "![](./images/6/7.png)"
   ]
  },
  {
   "cell_type": "markdown",
   "id": "c1a5cbb0",
   "metadata": {},
   "source": [
    "Whether to show the extra questions:"
   ]
  },
  {
   "cell_type": "markdown",
   "id": "477bbd4f",
   "metadata": {},
   "source": [
    "![](./images/6/8.png)"
   ]
  },
  {
   "cell_type": "markdown",
   "id": "2995e35a",
   "metadata": {},
   "source": [
    "Remember to add it into the timeline at the end:"
   ]
  },
  {
   "cell_type": "markdown",
   "id": "3a1ab80d",
   "metadata": {},
   "source": [
    "![](./images/6/9.png)"
   ]
  },
  {
   "cell_type": "markdown",
   "id": "fc023f13",
   "metadata": {},
   "source": []
  },
  {
   "cell_type": "markdown",
   "id": "0eb5177b",
   "metadata": {},
   "source": [
    "## Showing Different Questionnaires to Different Participants"
   ]
  },
  {
   "cell_type": "markdown",
   "id": "ae2ef104",
   "metadata": {},
   "source": [
    "First you need to decide how you would like to divide your participants into categories. Here we’ve asked for their age and sex (**“1. demographics_block.js”**):"
   ]
  },
  {
   "cell_type": "markdown",
   "id": "8741f617",
   "metadata": {},
   "source": [
    "![](./images/6/10.png)"
   ]
  },
  {
   "cell_type": "markdown",
   "id": "553fb306",
   "metadata": {},
   "source": [
    "**Retrieve their answers:**"
   ]
  },
  {
   "cell_type": "markdown",
   "id": "9c7ded81",
   "metadata": {},
   "source": [
    "> a) Create global variables"
   ]
  },
  {
   "cell_type": "markdown",
   "id": "e03510df",
   "metadata": {},
   "source": [
    "![](./images/6/11.png)"
   ]
  },
  {
   "cell_type": "markdown",
   "id": "7a99131d",
   "metadata": {},
   "source": [
    "> b) Retrieve the answers and save them in the variables"
   ]
  },
  {
   "cell_type": "markdown",
   "id": "c7193880",
   "metadata": {},
   "source": [
    "![](./images/6/12.png)"
   ]
  },
  {
   "cell_type": "markdown",
   "id": "0a0192c1",
   "metadata": {},
   "source": [
    "> c) A useless step please ignore lol"
   ]
  },
  {
   "cell_type": "markdown",
   "id": "b6f40cd3",
   "metadata": {},
   "source": [
    "![](./images/6/13.png)"
   ]
  },
  {
   "cell_type": "markdown",
   "id": "1e7c9a6e",
   "metadata": {},
   "source": [
    "Include different questionnaires for different categories of participants:"
   ]
  },
  {
   "cell_type": "markdown",
   "id": "01b5ff03",
   "metadata": {},
   "source": [
    "![](./images/6/14.png)"
   ]
  },
  {
   "cell_type": "markdown",
   "id": "fef79ac1",
   "metadata": {},
   "source": []
  }
 ],
 "metadata": {
  "language_info": {
   "name": "python"
  }
 },
 "nbformat": 4,
 "nbformat_minor": 5
}
