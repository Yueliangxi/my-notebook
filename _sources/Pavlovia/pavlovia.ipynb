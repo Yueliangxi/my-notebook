{
 "cells": [
  {
   "cell_type": "markdown",
   "id": "3a8a33b1",
   "metadata": {},
   "source": [
    "# Pushing questionnaires to Pavlovia"
   ]
  },
  {
   "cell_type": "markdown",
   "id": "32422628",
   "metadata": {},
   "source": [
    "*For the AND lab*"
   ]
  },
  {
   "cell_type": "markdown",
   "id": "f143e7a2",
   "metadata": {},
   "source": [
    "> If you haven’t used Gitlab or Github before, you are basically cloning an empty folder (that you created for your project) from the server to your local device, adding files/making changes to this folder, and sending things back to the server."
   ]
  },
  {
   "cell_type": "markdown",
   "id": "ae934253",
   "metadata": {},
   "source": [
    "### 1.\tAfter creating your Pavlovia account, go to Gitlab Pavlovia: [Pavlovia Github](https://gitlab.pavlovia.org/dashboard/projects)"
   ]
  },
  {
   "cell_type": "markdown",
   "id": "ccc8c015",
   "metadata": {},
   "source": [
    "### 2.\tClick “new project” on the right corner and then “create blank project”"
   ]
  },
  {
   "cell_type": "markdown",
   "id": "a980664f",
   "metadata": {},
   "source": [
    "![create new project](./images/Picture1.png)"
   ]
  },
  {
   "cell_type": "markdown",
   "id": "5c6293b6",
   "metadata": {},
   "source": [
    "\n",
    "<span style=\"color: red; font-weight: bold;\">*** Either credits or a license are necessary to run your experiment. If you need to use Sarah’s license, please ask her for her account details and create a new project using her account. ***</span> "
   ]
  },
  {
   "cell_type": "markdown",
   "id": "13efb784",
   "metadata": {},
   "source": [
    "You should have something like this:\n",
    "![](./images/Picture2.png)"
   ]
  },
  {
   "cell_type": "markdown",
   "id": "6be0d4ee",
   "metadata": {},
   "source": [
    "\n",
    "<span style=\"color: red; font-weight: bold;\">*** If you used Sarah’s account to create the new project and would like to run it later using your own account, you can share the project with yourself (“Members”). ***</span> "
   ]
  },
  {
   "cell_type": "markdown",
   "id": "7864f52b",
   "metadata": {},
   "source": [
    "![](./images/Picture3.png)"
   ]
  },
  {
   "cell_type": "markdown",
   "id": "a0929f0c",
   "metadata": {},
   "source": [
    "### 3.\tInstall Gitlab on your local device: https://git-scm.com/downloads"
   ]
  },
  {
   "cell_type": "markdown",
   "id": "b1c32ace",
   "metadata": {},
   "source": [
    "### 4.\tClick clone on the right corner and copy the link (“clone with HTTPS”)"
   ]
  },
  {
   "cell_type": "markdown",
   "id": "abd8768c",
   "metadata": {},
   "source": [
    "![](./images/Picture4.png)"
   ]
  },
  {
   "cell_type": "markdown",
   "id": "ef3fb5f1",
   "metadata": {},
   "source": [
    "### 5.\tIn terminal, go to the directory where you w\tould like the project folder to be cloned (e.g., cd desktop):"
   ]
  },
  {
   "cell_type": "markdown",
   "id": "771f5ef5",
   "metadata": {},
   "source": [
    "![](./images/Picture5.png)"
   ]
  },
  {
   "cell_type": "markdown",
   "id": "19c799fa",
   "metadata": {},
   "source": [
    "### 6.\tEnter “git clone” + link. \n",
    "\n",
    "```{python}\n",
    "git clone https://gitlab.pavlovia.org/smtashjian/safety7t_adolescent.git\n",
    "```\n"
   ]
  },
  {
   "cell_type": "markdown",
   "id": "3ad539d5",
   "metadata": {},
   "source": [
    "### 7.\tAdd files"
   ]
  },
  {
   "cell_type": "markdown",
   "id": "d46129a2",
   "metadata": {},
   "source": [
    ">There should be a new folder created on your laptop (the name of the folder should be the same as your project name, e.g., “safety7t_adolescent”). Copy and paste all relevant files into this folder:"
   ]
  },
  {
   "cell_type": "markdown",
   "id": "21b2108c",
   "metadata": {},
   "source": [
    "![](./images/Picture6.png)"
   ]
  },
  {
   "cell_type": "markdown",
   "id": "83447dc5",
   "metadata": {},
   "source": [
    "### 8. In terminal, enter the following codes:"
   ]
  },
  {
   "cell_type": "code",
   "execution_count": null,
   "id": "243dfaf3",
   "metadata": {
    "vscode": {
     "languageId": "plaintext"
    }
   },
   "outputs": [],
   "source": [
    "cd YOUR_FOLDER_NAME                     # Direct yourself to the cloned folder\n",
    "git add .                               # Add all files\n",
    "git commit -m \"Add experiment files\"    # Commit with comments\n",
    "git push origin master                  # Upload everything commited to the server"
   ]
  },
  {
   "cell_type": "markdown",
   "id": "d1f60246",
   "metadata": {},
   "source": [
    "```{important}\n",
    "If it asks for a password, it’s likely to the one for your local device (not sure if this step is gonna be the same for everyone…)\n",
    "```"
   ]
  },
  {
   "cell_type": "markdown",
   "id": "b2588e29",
   "metadata": {},
   "source": [
    "![](./images/Picture7.png)"
   ]
  },
  {
   "cell_type": "markdown",
   "id": "ae88cbae",
   "metadata": {},
   "source": [
    "> You should then be able to see the files on the Gitlab webpage:"
   ]
  },
  {
   "cell_type": "markdown",
   "id": "3f5d175f",
   "metadata": {},
   "source": [
    "![](./images/Picture8.png)"
   ]
  },
  {
   "cell_type": "markdown",
   "id": "7b4fb465",
   "metadata": {},
   "source": [
    "### 9. Making changes"
   ]
  },
  {
   "cell_type": "code",
   "execution_count": null,
   "id": "69c32cf3",
   "metadata": {
    "vscode": {
     "languageId": "plaintext"
    }
   },
   "outputs": [],
   "source": [
    "git pull                        # Pull latest files\n",
    "git status                      # Check what have been changed locally\n",
    "git add .                       # Add all modified files\n",
    "git commit -m \"xxx modified\"    # Commit with comments\n",
    "git push origin master          # Upload everything to the server"
   ]
  },
  {
   "cell_type": "markdown",
   "id": "92c20e03",
   "metadata": {},
   "source": [
    "```{important}\n",
    "Make sure that you've download the latest version from the server, especically when you are not the only one working on the project.\n",
    "```"
   ]
  },
  {
   "cell_type": "markdown",
   "id": "6e72793f",
   "metadata": {},
   "source": [
    "> OR\n",
    ">\n",
    "> Go to the webpage, edit it directly or replace it by uploading a new file\n"
   ]
  },
  {
   "cell_type": "markdown",
   "id": "c1811534",
   "metadata": {},
   "source": [
    "![](./images/Picture9.png)"
   ]
  },
  {
   "cell_type": "markdown",
   "id": "b5d7dcfc",
   "metadata": {},
   "source": [
    "### 10.\tYou should also be able to see your project on Pavlovia (“dashboard” -> \"experiments\"):"
   ]
  },
  {
   "cell_type": "markdown",
   "id": "9c76a8d3",
   "metadata": {},
   "source": [
    "![](./images/Picture10.png)"
   ]
  },
  {
   "cell_type": "markdown",
   "id": "a285bb72",
   "metadata": {},
   "source": [
    "```{Note}\n",
    "You can now pilot or run your experiment!\n",
    "```"
   ]
  },
  {
   "cell_type": "markdown",
   "id": "8f83f621",
   "metadata": {},
   "source": [
    "![](./images/Picture11.png)"
   ]
  },
  {
   "cell_type": "markdown",
   "id": "aec96fb9",
   "metadata": {},
   "source": []
  }
 ],
 "metadata": {
  "kernelspec": {
   "display_name": ".venv",
   "language": "python",
   "name": "python3"
  },
  "language_info": {
   "codemirror_mode": {
    "name": "ipython",
    "version": 3
   },
   "file_extension": ".py",
   "mimetype": "text/x-python",
   "name": "python",
   "nbconvert_exporter": "python",
   "pygments_lexer": "ipython3",
   "version": "3.12.5"
  }
 },
 "nbformat": 4,
 "nbformat_minor": 5
}
